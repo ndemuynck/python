{
 "cells": [
  {
   "cell_type": "code",
   "execution_count": 4,
   "metadata": {},
   "outputs": [],
   "source": [
    "import numpy as np"
   ]
  },
  {
   "cell_type": "code",
   "execution_count": 5,
   "metadata": {},
   "outputs": [],
   "source": [
    "# Function to return the sum of the sub-matrix\n",
    "def get_sum(r1, r2, c1, c2, dp):\n",
    "    return dp[r2][c2] - dp[r2][c1] - dp[r1][c2] + dp[r1][c1]"
   ]
  },
  {
   "cell_type": "code",
   "execution_count": 6,
   "metadata": {},
   "outputs": [],
   "source": [
    "class Matrix:\n",
    "\n",
    "    def __init__(self, random, rows ,cols):\n",
    "        self.random = int(random)\n",
    "        self.rows = int(rows)\n",
    "        self.cols = int(cols)\n",
    "        \n",
    "    def create_random_matrix(self):\n",
    "        A = np.random.randint(int(random), size=(int(rows), int(cols)))\n",
    "        return A\n",
    "    \n",
    "    def sum_of_subsquares(self, k):\n",
    "        mat = A\n",
    "        n = len(mat)\n",
    "        # k must be smaller than or equal to n\n",
    "        if (k > n):\n",
    "            return\n",
    "        # row number of first cell in current\n",
    "        # sub-square of size k x k\n",
    "        for i in range(n - k + 1):\n",
    "        # column of first cell in current\n",
    "        # sub-square of size k x k\n",
    "            for j in range(n - k + 1): \n",
    "            # Calculate and print sum of\n",
    "            # current sub-square\n",
    "                sum = 0\n",
    "                for p in range(i, k + i):\n",
    "                    for q in range(j, k + j):\n",
    "                        sum += mat[p][q]\n",
    "                print(sum, end = \" \")\n",
    "        \n",
    "    def find_sum_boolean(self, k, s):\n",
    "        mat = A\n",
    "        n = len(mat)\n",
    "        # 2-D array to store the sum of\n",
    "        # all the sub-matrices\n",
    "        dp = [[0 for i in range(n+1)] for j in range(n+1)]\n",
    "        # Filling of dp[][] array\n",
    "        for i in range(n):\n",
    "            for j in range(n):\n",
    "                dp[i + 1][j + 1] = dp[i + 1][j] + dp[i][j + 1] - dp[i][j] + mat[i][j]\n",
    "                \n",
    "        # Checking for each possible sub-matrix of size k X k\n",
    "        for i in range(0, n):\n",
    "            for j in range(0, n):\n",
    "                sum = get_sum(i, i + k, j, j + k, dp)\n",
    "                if (sum == s):\n",
    "                    return True\n",
    " \n",
    "        # Sub-matrix with the given sum not found\n",
    "        return False"
   ]
  },
  {
   "cell_type": "code",
   "execution_count": 121,
   "metadata": {},
   "outputs": [
    {
     "name": "stdout",
     "output_type": "stream",
     "text": [
      "[[9 7 1 8 4]\n",
      " [2 1 1 0 8]\n",
      " [4 3 5 2 1]\n",
      " [1 7 4 8 7]\n",
      " [1 2 4 8 0]]\n",
      "19 10 10 20 10 10 8 11 15 19 19 18 11 17 24 23 "
     ]
    },
    {
     "data": {
      "text/plain": [
       "True"
      ]
     },
     "execution_count": 121,
     "metadata": {},
     "output_type": "execute_result"
    }
   ],
   "source": [
    "random = 10\n",
    "rows = 5\n",
    "cols = 5\n",
    "m = Matrix(random, rows, cols)\n",
    "A = m.create_random_matrix()\n",
    "print(A)\n",
    "m.sum_of_subsquares(2)\n",
    "# the function returns the sum of any 2x2 matrix in matrix A (5x5)\n",
    "m.find_sum_boolean(2,10)\n",
    "# the function returns a boolean value after looking up if the sum of 10 in a 2x2 matrix \n",
    "# is present in a bigger matrix A (5x5)"
   ]
  }
 ],
 "metadata": {
  "kernelspec": {
   "display_name": "Python 3",
   "language": "python",
   "name": "python3"
  },
  "language_info": {
   "codemirror_mode": {
    "name": "ipython",
    "version": 3
   },
   "file_extension": ".py",
   "mimetype": "text/x-python",
   "name": "python",
   "nbconvert_exporter": "python",
   "pygments_lexer": "ipython3",
   "version": "3.8.3"
  }
 },
 "nbformat": 4,
 "nbformat_minor": 4
}
